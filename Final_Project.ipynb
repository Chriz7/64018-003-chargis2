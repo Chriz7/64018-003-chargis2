{
  "nbformat": 4,
  "nbformat_minor": 0,
  "metadata": {
    "colab": {
      "provenance": []
    },
    "kernelspec": {
      "name": "python3",
      "display_name": "Python 3"
    },
    "language_info": {
      "name": "python"
    }
  },
  "cells": [
    {
      "cell_type": "markdown",
      "source": [
        "#### Final Project\n",
        "\n",
        "#### MIS-64018-003\n",
        "\n",
        "#### Group 9\n"
      ],
      "metadata": {
        "id": "aLDp8X2mgPfO"
      }
    },
    {
      "cell_type": "code",
      "source": [
        "#!pip install docplex\n",
        "#!pip install cplex"
      ],
      "metadata": {
        "id": "AsCo9LOTEUQo"
      },
      "execution_count": null,
      "outputs": []
    },
    {
      "cell_type": "code",
      "source": [
        "from google.colab import files\n",
        "from IPython import display\n",
        "import numpy as np\n",
        "from docplex.mp.model import Model"
      ],
      "metadata": {
        "id": "QowZEZwBUi6u"
      },
      "execution_count": 47,
      "outputs": []
    },
    {
      "cell_type": "markdown",
      "source": [
        "###1. Problem Statement: \n",
        "\n",
        "#####The purpose of this project is to assign students to a group to maximize success. Each student has different characteritics about them making their own success rates different. The code below will optimize how to assign students to each of the 4 group maximizing (balancing) the success rates for each group. Details are explained further throughout.  "
      ],
      "metadata": {
        "id": "_dBPp74eZmiS"
      }
    },
    {
      "cell_type": "markdown",
      "source": [
        "###2. Data Collection & Overview"
      ],
      "metadata": {
        "id": "4tcJeVjBaPVH"
      }
    },
    {
      "cell_type": "code",
      "source": [
        "uploaded = files.upload()   #used to initially choose picture"
      ],
      "metadata": {
        "id": "4mvAeEPMVchZ"
      },
      "execution_count": null,
      "outputs": []
    },
    {
      "cell_type": "code",
      "source": [
        "display.Image('Dataset.PNG')"
      ],
      "metadata": {
        "id": "Kbq0Yd1bTN_1",
        "colab": {
          "base_uri": "https://localhost:8080/",
          "height": 284
        },
        "outputId": "fa5f114c-7d10-44aa-e6c1-a2536ca525c0"
      },
      "execution_count": 49,
      "outputs": [
        {
          "output_type": "execute_result",
          "data": {
            "image/png": "[encoded data removed]",
            "text/plain": [
              "<IPython.core.display.Image object>"
            ]
          },
          "metadata": {},
          "execution_count": 49
        }
      ]
    },
    {
      "cell_type": "markdown",
      "source": [
        "#### Initial Data Set\n",
        "\n",
        "#####GPA: The higher the GPA, the more likely the student will have a higher chance of success\n",
        "\n",
        "#####Previous Years of ExP (years): The more years of experience the student has, the higher chance of success the student will have\n",
        "\n",
        "#####Work Hours/day: The more Work Hours per day the students does, the lower chance of success the student will have\n",
        "\n",
        "#####Success Rate: This success rate is assigned to each student. This Success Rate has been given to each student based on a combination of their GPA, previous years of experience and their work hours. "
      ],
      "metadata": {
        "id": "GC5ggizER_7E"
      }
    },
    {
      "cell_type": "code",
      "source": [
        "uploaded = files.upload()"
      ],
      "metadata": {
        "id": "6fgrkcVnYdTF"
      },
      "execution_count": null,
      "outputs": []
    },
    {
      "cell_type": "code",
      "source": [
        "display.Image('Decision_Variables.PNG')"
      ],
      "metadata": {
        "id": "9OxCoRRRYfBm",
        "colab": {
          "base_uri": "https://localhost:8080/",
          "height": 301
        },
        "outputId": "c13700a4-2950-4cf6-8799-cb5a7f38dbc0"
      },
      "execution_count": 51,
      "outputs": [
        {
          "output_type": "execute_result",
          "data": {
            "image/png": "[encoded data removed]",
            "text/plain": [
              "<IPython.core.display.Image object>"
            ]
          },
          "metadata": {},
          "execution_count": 51
        }
      ]
    },
    {
      "cell_type": "markdown",
      "source": [
        "#### Decision Variables\n",
        "\n",
        "#####Explanation: For each row of students they will be assigned to a group. Each group must have 3 students and each student must be assigned to a group \n",
        "\n",
        "#####Example of how the variables will work: If student 1 were to be assigned to Group 3, 1c will be 1 and 1a, 1b, and 1d will be 0. This is because the same student can only be in 1 seat among the 4 different groups. "
      ],
      "metadata": {
        "id": "Jwl3qH6KXiEt"
      }
    },
    {
      "cell_type": "markdown",
      "source": [
        "###3. Method Used\n",
        "\n",
        "#### Please refer to the above decision variables picture to understand the methodology given. Imagine each variable (1a, 1b, etc) in the image above as a seat. Given the table we setup each variable to be either a 0 or 1. 0 meaning there is no one in that seat, 1 meaning that student in that row is sitting in that seat for that group. So if student 9 is sitting in seat 11b then Group B will gain 40 success rate points. \n",
        "\n",
        "#### We will be using the Docplex library to find a solution"
      ],
      "metadata": {
        "id": "NyJeR1baaKtn"
      }
    },
    {
      "cell_type": "markdown",
      "source": [
        "### Setting up Variables#"
      ],
      "metadata": {
        "id": "q2_mYkeHZNjy"
      }
    },
    {
      "cell_type": "code",
      "execution_count": 52,
      "metadata": {
        "id": "XZq1SFU8EKeU"
      },
      "outputs": [],
      "source": [
        "m = Model(name = \"Student_Model\")\n",
        "\n",
        "Assignment1a = m.integer_var(name='Assignment1a', lb = 0, ub=1)\n",
        "Assignment2a = m.integer_var(name='Assignment2a', lb = 0, ub=1)\n",
        "Assignment3a = m.integer_var(name='Assignment3a', lb = 0, ub=1)\n",
        "Assignment4a = m.integer_var(name='Assignment4a', lb = 0, ub=1)\n",
        "Assignment5a = m.integer_var(name='Assignment5a', lb = 0, ub=1)\n",
        "Assignment6a = m.integer_var(name='Assignment6a', lb = 0, ub=1)\n",
        "Assignment7a = m.integer_var(name='Assignment7a', lb = 0, ub=1)\n",
        "Assignment8a = m.integer_var(name='Assignment8a', lb = 0, ub=1)\n",
        "Assignment9a = m.integer_var(name='Assignment9a', lb = 0, ub=1)\n",
        "Assignment10a = m.integer_var(name='Assignment10a', lb = 0, ub=1)\n",
        "Assignment11a = m.integer_var(name='Assignment11a', lb = 0, ub=1)\n",
        "Assignment12a = m.integer_var(name='Assignment12a', lb = 0, ub=1)\n",
        "Assignment1b = m.integer_var(name='Assignment1b', lb = 0, ub=1)\n",
        "Assignment2b = m.integer_var(name='Assignment2b', lb = 0, ub=1)\n",
        "Assignment3b = m.integer_var(name='Assignment3b', lb = 0, ub=1)\n",
        "Assignment4b = m.integer_var(name='Assignment4b', lb = 0, ub=1)\n",
        "Assignment5b = m.integer_var(name='Assignment5b', lb = 0, ub=1)\n",
        "Assignment6b = m.integer_var(name='Assignment6b', lb = 0, ub=1)\n",
        "Assignment7b = m.integer_var(name='Assignment7b', lb = 0, ub=1)\n",
        "Assignment8b = m.integer_var(name='Assignment8b', lb = 0, ub=1)\n",
        "Assignment9b = m.integer_var(name='Assignment9b', lb = 0, ub=1)\n",
        "Assignment10b = m.integer_var(name='Assignment10b', lb = 0, ub=1)\n",
        "Assignment11b = m.integer_var(name='Assignment11b', lb = 0, ub=1)\n",
        "Assignment12b = m.integer_var(name='Assignment12b', lb = 0, ub=1)\n",
        "Assignment1c = m.integer_var(name='Assignment1c', lb = 0, ub=1)\n",
        "Assignment2c = m.integer_var(name='Assignment2c', lb = 0, ub=1)\n",
        "Assignment3c = m.integer_var(name='Assignment3c', lb = 0, ub=1)\n",
        "Assignment4c = m.integer_var(name='Assignment4c', lb = 0, ub=1)\n",
        "Assignment5c = m.integer_var(name='Assignment5c', lb = 0, ub=1)\n",
        "Assignment6c = m.integer_var(name='Assignment6c', lb = 0, ub=1)\n",
        "Assignment7c = m.integer_var(name='Assignment7c', lb = 0, ub=1)\n",
        "Assignment8c = m.integer_var(name='Assignment8c', lb = 0, ub=1)\n",
        "Assignment9c = m.integer_var(name='Assignment9c', lb = 0, ub=1)\n",
        "Assignment10c = m.integer_var(name='Assignment10c', lb = 0, ub=1)\n",
        "Assignment11c = m.integer_var(name='Assignment11c', lb = 0, ub=1)\n",
        "Assignment12c = m.integer_var(name='Assignment12c', lb = 0, ub=1)\n",
        "Assignment1d = m.integer_var(name='Assignment1d', lb = 0, ub=1)\n",
        "Assignment2d = m.integer_var(name='Assignment2d', lb = 0, ub=1)\n",
        "Assignment3d = m.integer_var(name='Assignment3d', lb = 0, ub=1)\n",
        "Assignment4d = m.integer_var(name='Assignment4d', lb = 0, ub=1)\n",
        "Assignment5d = m.integer_var(name='Assignment5d', lb = 0, ub=1)\n",
        "Assignment6d = m.integer_var(name='Assignment6d', lb = 0, ub=1)\n",
        "Assignment7d = m.integer_var(name='Assignment7d', lb = 0, ub=1)\n",
        "Assignment8d = m.integer_var(name='Assignment8d', lb = 0, ub=1)\n",
        "Assignment9d = m.integer_var(name='Assignment9d', lb = 0, ub=1)\n",
        "Assignment10d = m.integer_var(name='Assignment10d', lb = 0, ub=1)\n",
        "Assignment11d = m.integer_var(name='Assignment11d', lb = 0, ub=1)\n",
        "Assignment12d = m.integer_var(name='Assignment12d', lb = 0, ub=1)\n",
        "\n",
        "Total_Group_Sr = 150   #This will be used to balance the success rate per group\n",
        "                       #Can be adjusted based on how balanced we want the groups\n",
        "\n",
        "Student1_sr = 80\n",
        "Student2_sr = 70\n",
        "Student3_sr = 75\n",
        "Student4_sr = 90\n",
        "Student5_sr = 10\n",
        "Student6_sr = 20\n",
        "Student7_sr = 95\n",
        "Student8_sr = 10\n",
        "Student9_sr = 40\n",
        "Student10_sr = 30\n",
        "Student11_sr = 65\n",
        "Student12_sr = 30\n"
      ]
    },
    {
      "cell_type": "markdown",
      "source": [
        "#### Setting up Constraints"
      ],
      "metadata": {
        "id": "E9-rXk1hZYYr"
      }
    },
    {
      "cell_type": "code",
      "source": [
        "#Ensuring there are only 3 students per group\n",
        "group1_count_constraint = m.add_constraint(Assignment1a + Assignment2a + Assignment3a + Assignment4a + Assignment5a + Assignment6a + \\\n",
        "                                           Assignment7a + Assignment8a + Assignment9a + Assignment10a + Assignment11a + Assignment12a == 3)\n",
        "group2_count_constraint = m.add_constraint(Assignment1b + Assignment2b + Assignment3b + Assignment4b + Assignment5b + Assignment6b + \\\n",
        "                                           Assignment7b + Assignment8b + Assignment9b + Assignment10b + Assignment11b + Assignment12b == 3)\n",
        "group3_count_constraint = m.add_constraint(Assignment1c + Assignment2c + Assignment3c + Assignment4c + Assignment5c + Assignment6c + \\\n",
        "                                           Assignment7c + Assignment8c + Assignment9c + Assignment10c + Assignment11c + Assignment12c == 3)\n",
        "group4_count_constraint = m.add_constraint(Assignment1d + Assignment2d + Assignment3d + Assignment4d + Assignment5d + Assignment6d + \\\n",
        "                                           Assignment7d + Assignment8d + Assignment9d + Assignment10d + Assignment11d + Assignment12d == 3)\n",
        "\n",
        "#Ensuring a student only belongs to 1 group\n",
        "Student1_constraint = m.add_constraint(Assignment1a + Assignment1b + Assignment1c + Assignment1d == 1)\n",
        "Student2_constraint = m.add_constraint(Assignment2a + Assignment2b + Assignment2c + Assignment2d == 1)\n",
        "Student3_constraint = m.add_constraint(Assignment3a + Assignment3b + Assignment3c + Assignment3d == 1)\n",
        "Student4_constraint = m.add_constraint(Assignment4a + Assignment4b + Assignment4c + Assignment4d == 1)\n",
        "Student5_constraint = m.add_constraint(Assignment5a + Assignment5b + Assignment5c + Assignment5d == 1)\n",
        "Student6_constraint = m.add_constraint(Assignment6a + Assignment6b + Assignment6c + Assignment6d == 1)\n",
        "Student7_constraint = m.add_constraint(Assignment7a + Assignment7b + Assignment7c + Assignment7d == 1)\n",
        "Student8_constraint = m.add_constraint(Assignment8a + Assignment8b + Assignment8c + Assignment8d == 1)\n",
        "Student9_constraint = m.add_constraint(Assignment9a + Assignment9b + Assignment9c + Assignment9d == 1)\n",
        "Student10_constraint = m.add_constraint(Assignment10a + Assignment10b + Assignment10c + Assignment10d == 1)\n",
        "Student11_constraint = m.add_constraint(Assignment11a + Assignment11b + Assignment11c + Assignment11d == 1)\n",
        "Student12_constraint = m.add_constraint(Assignment12a + Assignment12b + Assignment12c + Assignment12d == 1)\n",
        "\n",
        "\n",
        "#Ensuring the groups are balanced. These can be changed as the rules/requirement change\n",
        "Group_1_Threshold_constraint = m.add_constraint(Assignment1a*Student1_sr + Assignment2a*Student2_sr + Assignment3a*Student3_sr + Assignment4a*Student4_sr\\\n",
        "    + Assignment5a*Student5_sr + Assignment6a*Student6_sr + Assignment7a*Student7_sr + Assignment8a*Student8_sr\\\n",
        "    + Assignment9a*Student9_sr + Assignment10a*Student10_sr + Assignment11a*Student11_sr + Assignment12a*Student12_sr >= Total_Group_Sr)\n",
        "\n",
        "Group_2_Threshold_constraint = m.add_constraint(Assignment1b*Student1_sr + Assignment2b*Student2_sr + Assignment3b*Student3_sr + Assignment4b*Student4_sr\\\n",
        "    + Assignment5b*Student5_sr + Assignment6b*Student6_sr + Assignment7b*Student7_sr + Assignment8b*Student8_sr\\\n",
        "    + Assignment9b*Student9_sr + Assignment10b*Student10_sr + Assignment11b*Student11_sr + Assignment12b*Student12_sr >= Total_Group_Sr)\n",
        "\n",
        "Group_3_Threshold_constraint = m.add_constraint(Assignment1c*Student1_sr + Assignment2c*Student2_sr + Assignment3c*Student3_sr + Assignment4c*Student4_sr\\\n",
        "    + Assignment5c*Student5_sr + Assignment6c*Student6_sr + Assignment7c*Student7_sr + Assignment8c*Student8_sr\\\n",
        "    + Assignment9c*Student9_sr + Assignment10c*Student10_sr + Assignment11c*Student11_sr + Assignment12c*Student12_sr >= Total_Group_Sr)\n",
        "\n",
        "Group_4_Threshold_constraint = m.add_constraint(Assignment1d*Student1_sr + Assignment2d*Student2_sr + Assignment3d*Student3_sr + Assignment4d*Student4_sr\\\n",
        "    + Assignment5d*Student5_sr + Assignment6d*Student6_sr + Assignment7d*Student7_sr + Assignment8d*Student8_sr\\\n",
        "    + Assignment9d*Student9_sr + Assignment10d*Student10_sr + Assignment11d*Student11_sr + Assignment12d*Student12_sr >= Total_Group_Sr)"
      ],
      "metadata": {
        "id": "gCfOa-EPEN0E"
      },
      "execution_count": 53,
      "outputs": []
    },
    {
      "cell_type": "markdown",
      "source": [
        "#### Objective Function"
      ],
      "metadata": {
        "id": "3gDwFetJZmZZ"
      }
    },
    {
      "cell_type": "code",
      "source": [
        "m.maximize(\n",
        "(Assignment1a*Student1_sr + Assignment2a*Student2_sr + Assignment3a*Student3_sr + Assignment4a*Student4_sr\\\n",
        "    + Assignment5a*Student5_sr + Assignment6a*Student6_sr + Assignment7a*Student7_sr + Assignment8a*Student8_sr\\\n",
        "    + Assignment9a*Student9_sr + Assignment10a*Student10_sr + Assignment11a*Student11_sr + Assignment12a*Student12_sr) +\n",
        "(Assignment1b*Student1_sr + Assignment2b*Student2_sr + Assignment3b*Student3_sr + Assignment4b*Student4_sr\\\n",
        "    + Assignment5b*Student5_sr + Assignment6b*Student6_sr + Assignment7b*Student7_sr + Assignment8b*Student8_sr\\\n",
        "    + Assignment9b*Student9_sr + Assignment10b*Student10_sr + Assignment11b*Student11_sr + Assignment12b*Student12_sr) +\n",
        "(Assignment1c*Student1_sr + Assignment2c*Student2_sr + Assignment3c*Student3_sr + Assignment4c*Student4_sr\\\n",
        "    + Assignment5c*Student5_sr + Assignment6c*Student6_sr + Assignment7c*Student7_sr + Assignment8c*Student8_sr\\\n",
        "    + Assignment9c*Student9_sr + Assignment10c*Student10_sr + Assignment11c*Student11_sr + Assignment12c*Student12_sr) +\n",
        "(Assignment1d*Student1_sr + Assignment2d*Student2_sr + Assignment3d*Student3_sr + Assignment4d*Student4_sr\\\n",
        "    + Assignment5d*Student5_sr + Assignment6d*Student6_sr + Assignment7d*Student7_sr + Assignment8d*Student8_sr\\\n",
        "    + Assignment9d*Student9_sr + Assignment10d*Student10_sr + Assignment11d*Student11_sr + Assignment12d*Student12_sr)\n",
        ")"
      ],
      "metadata": {
        "id": "PekKmklcENxj"
      },
      "execution_count": 54,
      "outputs": []
    },
    {
      "cell_type": "markdown",
      "source": [
        "###4. Solution:"
      ],
      "metadata": {
        "id": "CGjK7BRVdj6K"
      }
    },
    {
      "cell_type": "markdown",
      "source": [
        "#### Display Results"
      ],
      "metadata": {
        "id": "NFjDNMuEZtMJ"
      }
    },
    {
      "cell_type": "code",
      "source": [
        "sol = m.solve()\n",
        "\n",
        "sol.display()"
      ],
      "metadata": {
        "id": "fhEGvKmuENu7",
        "colab": {
          "base_uri": "https://localhost:8080/",
          "height": 0
        },
        "outputId": "f1eba569-2a31-4087-a3be-4e1eec0036a9"
      },
      "execution_count": 55,
      "outputs": [
        {
          "output_type": "stream",
          "name": "stdout",
          "text": [
            "solution for: Student_Model\n",
            "objective: 615\n",
            "status: OPTIMAL_SOLUTION(2)\n",
            "Assignment6a = 1\n",
            "Assignment7a = 1\n",
            "Assignment9a = 1\n",
            "Assignment3b = 1\n",
            "Assignment8b = 1\n",
            "Assignment11b = 1\n",
            "Assignment1c = 1\n",
            "Assignment2c = 1\n",
            "Assignment5c = 1\n",
            "Assignment4d = 1\n",
            "Assignment10d = 1\n",
            "Assignment12d = 1\n"
          ]
        }
      ]
    },
    {
      "cell_type": "markdown",
      "source": [
        "##### Here above we can see which students are being selected per group. For group A students 6, 7, & 9 were selected. For Group B students 3, 8 & 11 were selcted and so on. "
      ],
      "metadata": {
        "id": "gci05Bx0fLKG"
      }
    },
    {
      "cell_type": "markdown",
      "source": [
        "#### Here we can see which students are being chosen per group. Refer to the image below for a better understanding. "
      ],
      "metadata": {
        "id": "LGAlaUJAZ_kp"
      }
    },
    {
      "cell_type": "code",
      "source": [
        "uploaded = files.upload()"
      ],
      "metadata": {
        "id": "q545NYjnENqs"
      },
      "execution_count": null,
      "outputs": []
    },
    {
      "cell_type": "code",
      "source": [
        "display.Image('Sol.PNG')"
      ],
      "metadata": {
        "id": "D-nlAlFWENoE",
        "colab": {
          "base_uri": "https://localhost:8080/",
          "height": 320
        },
        "outputId": "976eecfb-7676-4400-e997-3a8d837b0fab"
      },
      "execution_count": 61,
      "outputs": [
        {
          "output_type": "execute_result",
          "data": {
            "image/png": "[encoded data removed]",
            "text/plain": [
              "<IPython.core.display.Image object>"
            ]
          },
          "metadata": {},
          "execution_count": 61
        }
      ]
    },
    {
      "cell_type": "markdown",
      "source": [
        "##### From the optimal solution above we can refer back to our student table to visually see which students were picked and the total success rate per group. (Highlighted cells are students that were selected for that group)\n",
        "\n",
        "##### GroupA = 155\n",
        "##### GroupB = 150\n",
        "##### GroupC = 160\n",
        "##### GroupD = 150\n",
        "\n",
        "##### We can see here that the success rate for each group is optimally balanced. If we were to attempt to increase the success rate threshold to 155 it would result in an error because there is no better solution. "
      ],
      "metadata": {
        "id": "hwmeCxfJdefy"
      }
    }
  ]
}